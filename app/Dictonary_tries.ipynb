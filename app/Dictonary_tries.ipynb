{
 "cells": [
  {
   "cell_type": "code",
   "execution_count": 12,
   "metadata": {},
   "outputs": [
    {
     "name": "stdout",
     "output_type": "stream",
     "text": [
      "2020-10-20\n",
      "2020-10-20_07_12_35.285.jpg\n",
      "2020-10-20_07_30_28.657.jpg\n",
      "2020-10-20_07_30_46.931.jpg\n",
      "2020-10-20_08_01_01.854.jpg\n",
      "2020-10-20_08_02_03.890.jpg\n",
      "\n",
      "2020-10-21\n",
      "2020-10-21_06_30_57.704.jpg\n",
      "2020-10-21_07_31_30.441.jpg\n",
      "2020-10-21_07_33_40.766.jpg\n",
      "2020-10-21_07_35_41.953.jpg\n",
      "2020-10-21_08_00_19.285.jpg\n",
      "\n",
      "2020-10-22\n",
      "2020-10-22_07_24_20.393.jpg\n",
      "2020-10-22_07_24_30.973.jpg\n",
      "2020-10-22_07_29_01.721.jpg\n",
      "2020-10-22_07_31_08.680.jpg\n",
      "2020-10-22_07_36_29.922.jpg\n",
      "\n"
     ]
    }
   ],
   "source": [
    "import os\n",
    "\n",
    "pic_directory = os.path.join('C:\\\\Users\\\\Pilot\\\\Documents\\\\GitHub\\\\flask_app\\\\app', 'static')\n",
    "directories_current_dates = [r for r in os.listdir(pic_directory) if r.startswith('20')]\n",
    "# Idee Dictonary mit Date als schlüssel und eine liste der Bilder als value\n",
    "dicy = {}\n",
    "for item in directories_current_dates:\n",
    "    dicy[item] = os.listdir(os.path.join(pic_directory, item))\n",
    "# print(dicy)\n",
    "\n",
    "for key in dicy:\n",
    "    print(key)\n",
    "    dicy[key].sort()\n",
    "    for item in dicy[key][:5]:\n",
    "        print(item)\n",
    "    print()"
   ]
  },
  {
   "cell_type": "code",
   "execution_count": 3,
   "metadata": {},
   "outputs": [
    {
     "name": "stdout",
     "output_type": "stream",
     "text": [
      "C:\\Users\\Pilot\\Documents\\GitHub\\flask_app\\app\n"
     ]
    }
   ],
   "source": [
    "print(os.getcwd())"
   ]
  },
  {
   "cell_type": "code",
   "execution_count": null,
   "metadata": {},
   "outputs": [],
   "source": []
  }
 ],
 "metadata": {
  "kernelspec": {
   "display_name": "Python 3",
   "language": "python",
   "name": "python3"
  },
  "language_info": {
   "codemirror_mode": {
    "name": "ipython",
    "version": 3
   },
   "file_extension": ".py",
   "mimetype": "text/x-python",
   "name": "python",
   "nbconvert_exporter": "python",
   "pygments_lexer": "ipython3",
   "version": "3.7.4"
  }
 },
 "nbformat": 4,
 "nbformat_minor": 2
}
